{
  "nbformat": 4,
  "nbformat_minor": 0,
  "metadata": {
    "colab": {
      "provenance": [],
      "authorship_tag": "ABX9TyMbzCigssbjlpEI39pM7RHX",
      "include_colab_link": true
    },
    "kernelspec": {
      "name": "python3",
      "display_name": "Python 3"
    },
    "language_info": {
      "name": "python"
    }
  },
  "cells": [
    {
      "cell_type": "markdown",
      "metadata": {
        "id": "view-in-github",
        "colab_type": "text"
      },
      "source": [
        "<a href=\"https://colab.research.google.com/github/alfa7g7/Analisis-Cuantitativo-1er-semestre/blob/main/Examen_2.ipynb\" target=\"_parent\"><img src=\"https://colab.research.google.com/assets/colab-badge.svg\" alt=\"Open In Colab\"/></a>"
      ]
    },
    {
      "cell_type": "markdown",
      "source": [
        "FACULTAD DE INGENIERÍA, DISEÑO Y CIENCIAS APLICADAS MAESTRÍA EN CIENCIA DE DATOS TIC 60153 – Análisis Cuantitativo Examen 2 (50 %): Modelos de Regularización"
      ],
      "metadata": {
        "id": "e76pDgF_qoc0"
      }
    },
    {
      "cell_type": "markdown",
      "source": [
        "### Ejercicio 1. 1)\tConsidere el conjunto de datos “Boston Housing Data” presentados en Harrison and Rubinfeld (1978). Defina como variable respuesta a la columna MEDV. Realice una partición 80-20, donde el primer 80 % de los datos son datos de entrenamiento y el restante 20 % son datos para prueba.\n",
        "\n",
        "\n",
        "- Genere los modelos de regresión por regularización **Ridge, LASSO y Elastic-Net** para los datos de entrenamiento. Encuentre los valores óptimos de **α** y **λ** junto a su respectiva gráfica de evolución de los coeficientes de regresión. Compare los modelos en términos de la selección de variables, interprete los coeficientes y escriba la ecuación ajustada de regresión para cada caso. Finalmente, realice una predicción con las observaciones de prueba y determine cual de los tres modelos es el mejor en capacidad predictiva **(RMSE)**.\n",
        "\n",
        "\n",
        "- Sea $$Z ∈ R ⁿ ˣ ᴾ$$ una muestra de datos multivariantes. La distancia de Mahalanobis (MD), presentado por Mahalanobis (1936) y conocida como la distancia estadística, se define de la siguiente forma:\n",
        "MD(zi) = q(zi − µˆ)0Σˆ−1(zi − µˆ),\tpara i = 1, . . . , n.\n",
        "Donde xi ∈ Rp×1 denota una observación (fila), pero transpuesta, de la muestra, µˆ ∈ Rp×1 el vector de medias (vector con los promedios de cada columna o variable) y Σˆ−1 ∈ Rp×p la inversa de la matriz de covarianza de los datos. MD puede interpretarse como la distancia\n",
        "que tiene cada individuo de la muestra al individuo ideal o equilibrio (representado por µˆ), considerando la estructura de dependencia de las variables.\n",
        "\n",
        "Esta distancia tiene múltiples usos, como por ejemplo la detección de observaciones atípicas.\n",
        "Se dice que una observación zi es atípica sí MD(zi) > χ2\t, donde q denota un percentil,\n",
        "usualmente q ∈ [0.95, 0.99], de la distribución Chi-squared de parámetro p.\n",
        "De acuerdo a la información anterior: Detecte las observaciones atípicas multivariantes de la muestra, usando q = 0.90, 0.95, 0.975, 0.99 y en un gráfico muestre las distancias calculadas\n",
        "para cada individuo y los puntos de corte (χ2\t) ¿Qué puede concluir acerca de los indi-\n",
        "viduos atípicos para cada punto de corte? ¿Quienes son? ¿El gráfico de distancias muestra alguna observación NO atípica que para usted si lo fue? ¿Qué puede concluir acerca del comportamiento de q en el valor del punto de corte? Justifique detalladamente.\n",
        "\n",
        "Realice dos modelos de regresión Robusto–Regularizado, combinando la técnica de de- tección de atípicos multivariantes más la regularización Elastic-Net. Encuentre los valores óptimos de α∗ y λ∗, interprete los coeficientes de regresión, escriba la respectiva ecuación de\n",
        "regresión resultante y valide los supuestos del modelo (εi ∼ N(0, σ2)). Finalmente, realice\n",
        "iid\n",
        "una predicción con las observaciones de prueba y determine el RMSE de estos dos modelos. Compare los resultados con los modelos estimados en el ítem 1.\n",
        "\n",
        "NOTA: La aplicación de la técnica de detección de atípicos debe realizarla de la siguiente manera:\n",
        "•\tModelo 1: Estandarizar las variables y calcular MD usando el vector de medianas en vez del vector de medias y la matriz de correlación de Spearman en vez de la matriz de covarianzas usual. Luego, eliminar los atípicos y con la muestra limpia estimar el modelo regularizado.\n",
        "\n",
        "•\tModelo 2: Estandarizar las variables y calcular MD usando el vector de medianas en vez del vector de medias y la matriz de correlación de Spearman en vez de la matriz de covarianzas usual. Luego, determinar como observaciones NO atípicas los primeros r n+p+1 l individuos con las distancias más pequeñas. Finalmente, con la muestra limpia estimar el modelo regularizado.\n",
        "Ejemplo: Si n = 1000 y p = 100 entonces r n+p+1 l = r 1000+100+1 l = r550.5l = 551.\n",
        "2\t2\n",
        "Es decir, debe identificar como NO atípicos los 551 individuos de la muestra con las distancias de Mahalanobis más pequeñas.\n"
      ],
      "metadata": {
        "id": "p-Q90PhKRrv8"
      }
    },
    {
      "cell_type": "code",
      "execution_count": null,
      "metadata": {
        "id": "4Xo0aOXZp5be"
      },
      "outputs": [],
      "source": []
    }
  ]
}