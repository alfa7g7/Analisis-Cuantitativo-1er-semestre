{
  "cells": [
    {
      "cell_type": "markdown",
      "metadata": {
        "id": "view-in-github",
        "colab_type": "text"
      },
      "source": [
        "<a href=\"https://colab.research.google.com/github/alfa7g7/Analisis-Cuantitativo-1er-semestre/blob/main/examen-1.ipynb\" target=\"_parent\"><img src=\"https://colab.research.google.com/assets/colab-badge.svg\" alt=\"Open In Colab\"/></a>"
      ]
    },
    {
      "cell_type": "markdown",
      "metadata": {
        "id": "Jx8p_8ShpJ0H"
      },
      "source": [
        "FACULTAD DE INGENIERÍA, DISEÑO Y CIENCIAS\n",
        "APLICADAS\n",
        "MAESTRÍA EN CIENCIA DE DATOS\n",
        "TIC 60153 – Análisis Cuantitativo\n",
        "Examen 1 (50 %): Modelo de Regresión Lineal\n"
      ]
    },
    {
      "cell_type": "markdown",
      "source": [
        "1) Considere el conjunto de datos “data1” del fichero data_exam1.xlsx.\n",
        "Realice un análisis exploratorio de datos ¿Considera que podría generar un modelo de re gresión lineal con variable categórica (sin interacción) para la variable Y? Justifique. Si la respuesta a la pregunta es SI, genere un modelo de regresión sin interacción e interpretelo.\n",
        "\n",
        "Realice un gráfico de dispersión para Y vs X, considerando para cada observación su respec tivo valor en la variable Ind ¿Hay evidencia muestral que sugiera un cambio en la tasa media de cambio de Y condicionado a incrementos unitarios de X? ¿Considera que un modelo con interacciones sería más adecuado? Si la respuesta a estas preguntas es afirmativa, genere el respectivo modelo, interprete detalladamente los resultados y valide los supuestos del modelo propuesto (εiiid∼ N(0, σ2))."
      ],
      "metadata": {
        "id": "mF9WClxPpsol"
      }
    },
    {
      "cell_type": "code",
      "source": [],
      "metadata": {
        "id": "4PWxHWQwpq-v"
      },
      "execution_count": null,
      "outputs": []
    }
  ],
  "metadata": {
    "colab": {
      "provenance": [],
      "include_colab_link": true
    },
    "kernelspec": {
      "display_name": "Python 3",
      "language": "python",
      "name": "python3"
    },
    "language_info": {
      "codemirror_mode": {
        "name": "ipython",
        "version": 3
      },
      "file_extension": ".py",
      "mimetype": "text/x-python",
      "name": "python",
      "nbconvert_exporter": "python",
      "pygments_lexer": "ipython3",
      "version": "undefined.undefined.undefined"
    }
  },
  "nbformat": 4,
  "nbformat_minor": 0
}